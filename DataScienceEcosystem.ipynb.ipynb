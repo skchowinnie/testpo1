{
 "cells": [
  {
   "cell_type": "markdown",
   "id": "f57be161-981a-47f4-9876-a61dce588767",
   "metadata": {},
   "source": [
    "# Data Science Tools and Ecosystem"
   ]
  },
  {
   "cell_type": "markdown",
   "id": "873456a9-454c-47ef-b731-81ed8ba392bf",
   "metadata": {},
   "source": [
    "# Data Science Tools and Ecosystem"
   ]
  },
  {
   "cell_type": "markdown",
   "id": "67f91e31-9b77-403a-898c-a05614a63c66",
   "metadata": {},
   "source": [
    "In this notebook, Data Science Tools and Ecosystem are summarized."
   ]
  },
  {
   "cell_type": "markdown",
   "id": "bd78742e-3033-48b6-91c8-658a738c80ff",
   "metadata": {},
   "source": [
    "In this notebook, Data Science Tools and Ecosystem are summarized."
   ]
  },
  {
   "cell_type": "markdown",
   "id": "888b7972-1a60-45ab-a0cc-1bddd38950d8",
   "metadata": {},
   "source": [
    " **Objectives:**\n",
    "- List popular languages for Data Science\n",
    "- List popular libraties for Data Science\n",
    "- List popoulr tools for Data Science"
   ]
  },
  {
   "cell_type": "markdown",
   "id": "9bc0ab2e-fc43-43ea-8ecb-33d0db8ef37f",
   "metadata": {},
   "source": [
    " **Objectives:**\n",
    "- List popular languages for Data Science\n",
    "- List popular libraties for Data Science\n",
    "- List popoulr tools for Data Science"
   ]
  },
  {
   "cell_type": "markdown",
   "id": "bbd1a816-5a85-4043-b1b5-13d7d5b6bde1",
   "metadata": {},
   "source": [
    "### Some of the popular languages that Data Scientists use are:\n",
    "1. Python\n",
    "2. R\n",
    "3. C++\n",
    "4. Java"
   ]
  },
  {
   "cell_type": "markdown",
   "id": "7c8af571-3b85-4960-9ad9-0dcb43ac7421",
   "metadata": {},
   "source": [
    "### Some of the popular languages that Data Scientists use are:\n",
    "1. Python\n",
    "2. R\n",
    "3. C++\n",
    "4. Java"
   ]
  },
  {
   "cell_type": "markdown",
   "id": "64f8a294-41d3-4d44-8cfd-63a68b602c6c",
   "metadata": {},
   "source": [
    "### Some of the commonly used libraries used by Data Scientists include:\n",
    "Python Scientific computing libraries :-\n",
    "1. Numpy\n",
    "2. Pandas\n",
    "3. Seaborn\n",
    "4. Matplotlib\n",
    "5. Scipy\n",
    "\n",
    "AI Libraries:-\n",
    "1. Tensorflow\n",
    "2. Pytorch\n",
    "3. Keras\n",
    "4. Scikit-learn\n",
    "\n",
    "R Libraries:-\n",
    "1. dplyr\n",
    "2. stringr\n",
    "3. ggplot\n",
    "4. caret"
   ]
  },
  {
   "cell_type": "markdown",
   "id": "c6a10ce4-2654-4ad0-b816-0ca5df4fa8ff",
   "metadata": {},
   "source": [
    "## Data Science Tools\n",
    "|Data Science Tools|\n",
    "|-----------------|\n",
    "|Application programming interface, API|\n",
    "|Extract, Load, Transform, ELT|\n",
    "|Machine learning uses algorithms, ML|\n",
    "|Natural Language Processing,NLP|\n",
    "|RE stands for Representational, REST|\n",
    "|Software as a service, SaaS|"
   ]
  },
  {
   "cell_type": "markdown",
   "id": "d9d679ff-1033-47d5-aeb7-ead51d9ca490",
   "metadata": {},
   "source": [
    "## Data Science Tools\n",
    "|Data Science Tools|Term|\n",
    "|-------------|------|\n",
    "|Application programming interface| API|\n",
    "|Extract, Load, Transform| ELT|\n",
    "|Machine learning uses algorithms| ML|\n",
    "|Natural Language Processing|NLP|\n",
    "|RE stands for Representational| REST|\n",
    "|Software as a service| SaaS|"
   ]
  },
  {
   "cell_type": "markdown",
   "id": "a8e41054-4059-43b6-93f2-8a63134d20a5",
   "metadata": {},
   "source": [
    "### Below are a few examples of evaluating arithmetic expressions in Python\n",
    "\n",
    "#### 1. Simple arithmetic expression\n",
    "expression = \"2 + 3 * 4 - 1\"\n",
    "result = eval(expression)\n",
    "print(result)  # Output: 13\n",
    "\n",
    "#### 2. Using parentheses to change the order of operations\n",
    "expression = \"(2 + 3) * 4 - 1\"\n",
    "result = eval(expression)\n",
    "print(result)  # Output: 19\n",
    "\n",
    "#### 3. More complex expression with functions\n",
    "import math\n",
    "expression = \"4 / 3 * math.pi * math.pow(25, 3)\"\n",
    "result = eval(expression)\n",
    "print(result)  # Output: 65449.847\n"
   ]
  },
  {
   "cell_type": "code",
   "execution_count": 3,
   "id": "5891b9be-454c-4b0e-beb1-a3b927ccbd7e",
   "metadata": {},
   "outputs": [
    {
     "name": "stdout",
     "output_type": "stream",
     "text": [
      "13\n",
      "19\n",
      "65449.84694978735\n"
     ]
    }
   ],
   "source": [
    "### Below are a few examples of evaluating arithmetic expressions in Python\n",
    "\n",
    "#### 1. Simple arithmetic expression\n",
    "expression = \"2 + 3 * 4 - 1\"\n",
    "result = eval(expression)\n",
    "print(result)  \n",
    "\n",
    "#### 2. Using parentheses to change the order of operations\n",
    "expression = \"(2 + 3) * 4 - 1\"\n",
    "result = eval(expression)\n",
    "print(result)  \n",
    "\n",
    "#### 3. More complex expression with functions\n",
    "import math\n",
    "expression = \"4 / 3 * math.pi * math.pow(25, 3)\"\n",
    "result = eval(expression)\n",
    "print(result)  \n"
   ]
  },
  {
   "cell_type": "markdown",
   "id": "af3451a2-b6e7-4682-a990-e55c48d59d92",
   "metadata": {},
   "source": [
    "####  Using parentheses to change the order of operations\n",
    "expression = \"(3 * 4) +5\"\n",
    "result = eval(expression)\n",
    "print(result)  "
   ]
  },
  {
   "cell_type": "code",
   "execution_count": 4,
   "id": "23643332-87be-4796-9f1e-b64d6f2c778e",
   "metadata": {},
   "outputs": [
    {
     "name": "stdout",
     "output_type": "stream",
     "text": [
      "17\n"
     ]
    }
   ],
   "source": [
    "####  Using parentheses to change the order of operations\n",
    "expression = \"(3 * 4) +5\"\n",
    "result = eval(expression)\n",
    "print(result)  "
   ]
  },
  {
   "cell_type": "code",
   "execution_count": 5,
   "id": "cd6ebd7f-3bf3-48b4-87fb-bc3fe38aa661",
   "metadata": {},
   "outputs": [
    {
     "name": "stdout",
     "output_type": "stream",
     "text": [
      "3.3333333333333335\n"
     ]
    }
   ],
   "source": [
    "### This will convert 200 minutes to hours by diving by 60\n",
    "expression =\" 200 /60\"\n",
    "result =eval(expression)\n",
    "print (result)"
   ]
  },
  {
   "cell_type": "markdown",
   "id": "86b65785-b355-4d80-9e84-4d05d0ec8ecf",
   "metadata": {},
   "source": [
    "## Author \n",
    "## Chow Siew Kean"
   ]
  },
  {
   "cell_type": "markdown",
   "id": "1bcf0436-9747-4d97-84a1-358fe34db69c",
   "metadata": {},
   "source": [
    "## Author \n",
    "## Chow Siew Kean"
   ]
  }
 ],
 "metadata": {
  "kernelspec": {
   "display_name": "Python 3 (ipykernel)",
   "language": "python",
   "name": "python3"
  },
  "language_info": {
   "codemirror_mode": {
    "name": "ipython",
    "version": 3
   },
   "file_extension": ".py",
   "mimetype": "text/x-python",
   "name": "python",
   "nbconvert_exporter": "python",
   "pygments_lexer": "ipython3",
   "version": "3.11.9"
  }
 },
 "nbformat": 4,
 "nbformat_minor": 5
}
